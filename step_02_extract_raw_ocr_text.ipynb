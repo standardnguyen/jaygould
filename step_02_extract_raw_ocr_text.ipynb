{
 "cells": [
  {
   "cell_type": "code",
   "execution_count": null,
   "id": "0",
   "metadata": {},
   "outputs": [],
   "source": [
    "import PyPDF2\n",
    "import os\n",
    "from pathlib import Path\n",
    "\n",
    "def extract_text_from_pdfs(input_folder=\"pdf_pages\", output_folder=\"raw_txt_pages\"):\n",
    "    # Create output folder if it doesn't exist\n",
    "    Path(output_folder).mkdir(exist_ok=True)\n",
    "\n",
    "    # Get all PDF files from input folder\n",
    "    pdf_files = sorted([f for f in os.listdir(input_folder) if f.endswith('.pdf')])\n",
    "\n",
    "    if not pdf_files:\n",
    "        print(f\"No PDF files found in '{input_folder}' folder\")\n",
    "        return\n",
    "\n",
    "    successful_extractions = 0\n",
    "\n",
    "    for pdf_file in pdf_files:\n",
    "        pdf_path = os.path.join(input_folder, pdf_file)\n",
    "\n",
    "        try:\n",
    "            # Open the PDF file\n",
    "            with open(pdf_path, 'rb') as file:\n",
    "                pdf_reader = PyPDF2.PdfReader(file)\n",
    "\n",
    "                # Extract text from the first (and only) page\n",
    "                if len(pdf_reader.pages) > 0:\n",
    "                    page = pdf_reader.pages[0]\n",
    "                    text = page.extract_text()\n",
    "\n",
    "                    # Generate output filename (replace .pdf with .txt)\n",
    "                    txt_filename = pdf_file.replace('.pdf', '.txt')\n",
    "                    txt_path = os.path.join(output_folder, txt_filename)\n",
    "\n",
    "                    # Write text to file\n",
    "                    with open(txt_path, 'w', encoding='utf-8') as txt_file:\n",
    "                        txt_file.write(text)\n",
    "\n",
    "                    print(f\"Extracted: {pdf_file} -> {txt_filename}\")\n",
    "                    successful_extractions += 1\n",
    "                else:\n",
    "                    print(f\"Warning: {pdf_file} appears to be empty\")\n",
    "\n",
    "        except Exception as e:\n",
    "            print(f\"Error processing {pdf_file}: {str(e)}\")\n",
    "\n",
    "    print(f\"\\nExtraction complete! Successfully processed {successful_extractions} files\")\n",
    "    print(f\"Text files saved in '{output_folder}' folder\")\n"
   ]
  },
  {
   "cell_type": "code",
   "execution_count": null,
   "id": "1",
   "metadata": {},
   "outputs": [],
   "source": [
    "extract_text_from_pdfs()"
   ]
  }
 ],
 "metadata": {
  "kernelspec": {
   "display_name": ".venv",
   "language": "python",
   "name": "python3"
  },
  "language_info": {
   "codemirror_mode": {
    "name": "ipython",
    "version": 3
   },
   "file_extension": ".py",
   "mimetype": "text/x-python",
   "name": "python",
   "nbconvert_exporter": "python",
   "pygments_lexer": "ipython3",
   "version": "3.12.3"
  }
 },
 "nbformat": 4,
 "nbformat_minor": 5
}
