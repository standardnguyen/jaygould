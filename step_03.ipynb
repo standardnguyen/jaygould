{
 "cells": [
  {
   "cell_type": "code",
   "execution_count": null,
   "id": "0",
   "metadata": {},
   "outputs": [],
   "source": [
    "import os\n",
    "from pathlib import Path\n",
    "\n",
    "def merge_text_files(input_folder=\"raw_txt_pages\", output_file=\"raw_book_merged_text.txt\"):\n",
    "    # Get all text files from input folder\n",
    "    txt_files = sorted([f for f in os.listdir(input_folder) if f.endswith('.txt')])\n",
    "\n",
    "    if not txt_files:\n",
    "        print(f\"No text files found in '{input_folder}' folder\")\n",
    "        return\n",
    "\n",
    "    merged_content = []\n",
    "    processed_files = 0\n",
    "\n",
    "    for txt_file in txt_files:\n",
    "        txt_path = os.path.join(input_folder, txt_file)\n",
    "\n",
    "        try:\n",
    "            # Extract page number from filename (e.g., page_0001.txt -> 0001)\n",
    "            page_num = txt_file.replace('page_', '').replace('.txt', '')\n",
    "\n",
    "            # Read the text content\n",
    "            with open(txt_path, 'r', encoding='utf-8') as file:\n",
    "                content = file.read().strip()\n",
    "\n",
    "            # Create page header\n",
    "            page_header = f\"######PAGE {page_num} OCR'D TEXT#######\"\n",
    "\n",
    "            # Add header and content\n",
    "            merged_content.append(page_header)\n",
    "            merged_content.append(content)\n",
    "            merged_content.append(\"\")  # Add blank line after each page\n",
    "\n",
    "            print(f\"Added: {txt_file}\")\n",
    "            processed_files += 1\n",
    "\n",
    "        except Exception as e:\n",
    "            print(f\"Error processing {txt_file}: {str(e)}\")\n",
    "\n",
    "    # Write merged content to output file\n",
    "    try:\n",
    "        with open(output_file, 'w', encoding='utf-8') as output:\n",
    "            output.write('\\n'.join(merged_content))\n",
    "\n",
    "        print(f\"\\nMerge complete! Processed {processed_files} files\")\n",
    "        print(f\"Merged text saved as '{output_file}'\")\n",
    "\n",
    "    except Exception as e:\n",
    "        print(f\"Error writing output file: {str(e)}\")\n"
   ]
  },
  {
   "cell_type": "code",
   "execution_count": null,
   "id": "1",
   "metadata": {},
   "outputs": [],
   "source": [
    "merge_text_files()\n"
   ]
  }
 ],
 "metadata": {
  "kernelspec": {
   "display_name": ".venv",
   "language": "python",
   "name": "python3"
  },
  "language_info": {
   "codemirror_mode": {
    "name": "ipython",
    "version": 3
   },
   "file_extension": ".py",
   "mimetype": "text/x-python",
   "name": "python",
   "nbconvert_exporter": "python",
   "pygments_lexer": "ipython3",
   "version": "3.12.3"
  }
 },
 "nbformat": 4,
 "nbformat_minor": 5
}
