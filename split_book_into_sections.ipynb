{
 "cells": [
  {
   "cell_type": "code",
   "execution_count": null,
   "id": "0",
   "metadata": {},
   "outputs": [],
   "source": [
    "import PyPDF2\n",
    "import os\n",
    "from pathlib import Path\n",
    "\n",
    "def split_pdf_by_pages(input_pdf=\"book.pdf\", output_folder=\"pdf_pages\"):\n",
    "    # Create output folder if it doesn't exist\n",
    "    Path(output_folder).mkdir(exist_ok=True)\n",
    "\n",
    "    # Open the input PDF\n",
    "    with open(input_pdf, 'rb') as input_file:\n",
    "        pdf_reader = PyPDF2.PdfReader(input_file)\n",
    "        total_pages = len(pdf_reader.pages)\n",
    "\n",
    "        # Calculate padding width based on total pages\n",
    "        padding_width = len(str(total_pages))\n",
    "\n",
    "        # Extract each page\n",
    "        for page_num in range(total_pages):\n",
    "            # Create a new PDF writer for this page\n",
    "            pdf_writer = PyPDF2.PdfWriter()\n",
    "\n",
    "            # Add the current page\n",
    "            pdf_writer.add_page(pdf_reader.pages[page_num])\n",
    "\n",
    "            # Generate output filename with zero padding\n",
    "            output_filename = f\"page_{str(page_num + 1).zfill(4)}.pdf\"\n",
    "            output_path = os.path.join(output_folder, output_filename)\n",
    "\n",
    "            # Write the page to a new PDF file\n",
    "            with open(output_path, 'wb') as output_file:\n",
    "                pdf_writer.write(output_file)\n",
    "\n",
    "            print(f\"Created: {output_filename}\")\n",
    "\n",
    "        print(f\"\\nSplit complete! Created {total_pages} pages in '{output_folder}' folder\")"
   ]
  },
  {
   "cell_type": "code",
   "execution_count": null,
   "id": "1",
   "metadata": {},
   "outputs": [],
   "source": [
    "split_pdf_by_pages()"
   ]
  }
 ],
 "metadata": {
  "kernelspec": {
   "display_name": ".venv",
   "language": "python",
   "name": "python3"
  },
  "language_info": {
   "codemirror_mode": {
    "name": "ipython",
    "version": 3
   },
   "file_extension": ".py",
   "mimetype": "text/x-python",
   "name": "python",
   "nbconvert_exporter": "python",
   "pygments_lexer": "ipython3",
   "version": "3.12.3"
  }
 },
 "nbformat": 4,
 "nbformat_minor": 5
}
